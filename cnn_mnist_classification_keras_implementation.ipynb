{
  "nbformat": 4,
  "nbformat_minor": 0,
  "metadata": {
    "colab": {
      "provenance": []
    },
    "kernelspec": {
      "name": "python3",
      "display_name": "Python 3"
    },
    "language_info": {
      "name": "python"
    },
    "accelerator": "GPU",
    "gpuClass": "standard"
  },
  "cells": [
    {
      "cell_type": "code",
      "execution_count": 1,
      "metadata": {
        "id": "JeUYHBhxQd1W"
      },
      "outputs": [],
      "source": [
        "import numpy as np\n",
        "import tensorflow as tf\n",
        "import matplotlib.pyplot as plt\n",
        "from numpy import mean, std\n",
        "from keras.models import Sequential\n",
        "from keras.layers import Conv2D\n",
        "from keras.layers import MaxPooling2D\n",
        "from keras.layers import Flatten\n",
        "from keras.layers import Dropout\n",
        "from keras.layers import Dense\n",
        "from keras.layers import Activation\n",
        "from keras.layers import BatchNormalization\n",
        "from keras.optimizers import Adam\n",
        "from keras import backend as K\n",
        "from keras.datasets import mnist\n",
        "from keras.utils import to_categorical\n",
        "from keras.preprocessing.image import ImageDataGenerator\n",
        "%matplotlib inline"
      ]
    },
    {
      "cell_type": "code",
      "source": [
        "(train_img, train_lab), (test_img, test_lab) = mnist.load_data()\n",
        "inputShape = (28, 28, 1)\n",
        "epochs = 10"
      ],
      "metadata": {
        "id": "87jmXbFHRJgr"
      },
      "execution_count": 2,
      "outputs": []
    },
    {
      "cell_type": "code",
      "source": [
        "img = np.reshape(train_img[5], (28,28))\n",
        "plt.imshow(img)\n",
        "print(\"Label: \", train_lab[5])"
      ],
      "metadata": {
        "colab": {
          "base_uri": "https://localhost:8080/",
          "height": 283
        },
        "id": "KhYk5SUARsNL",
        "outputId": "a52dc6cd-5069-4561-951f-d0c2c1a9bf35"
      },
      "execution_count": 3,
      "outputs": [
        {
          "output_type": "stream",
          "name": "stdout",
          "text": [
            "Label:  2\n"
          ]
        },
        {
          "output_type": "display_data",
          "data": {
            "text/plain": [
              "<Figure size 432x288 with 1 Axes>"
            ],
            "image/png": "[encoded data removed]"
          },
          "metadata": {
            "needs_background": "light"
          }
        }
      ]
    },
    {
      "cell_type": "code",
      "source": [
        "# Loading dataset and reshapeing to have a single channel\n",
        "train_img = train_img.reshape((train_img.shape[0], 28, 28, 1))\n",
        "test_img  = test_img.reshape((test_img.shape[0], 28, 28, 1))\n",
        "train_lab = to_categorical(train_lab)\n",
        "test_lab  = to_categorical(test_lab)\n",
        "\n",
        "# Scaling Pixels and normalizing to range 0-1\n",
        "train_img = train_img.astype('float32') / 255.0\n",
        "test_img  = test_img.astype('float32') / 255.0"
      ],
      "metadata": {
        "id": "4352nrj6xzME"
      },
      "execution_count": 4,
      "outputs": []
    },
    {
      "cell_type": "code",
      "source": [
        "print('[INFO] Building model...')\n",
        "model = Sequential()\n",
        "# Forming initial layers of the ConvNet to understand the features of images\n",
        "model.add(Conv2D(32,\n",
        "                    (3,3),\n",
        "                    activation='relu',\n",
        "                    padding='same',\n",
        "                    input_shape=inputShape))\n",
        "model.add(MaxPooling2D((2,2)))\n",
        "model.add(BatchNormalization(axis=1))\n",
        "\n",
        "model.add(Conv2D(64,\n",
        "                    (3,3),\n",
        "                    activation='relu',\n",
        "                    padding='same'))\n",
        "model.add(MaxPooling2D((2,2)))\n",
        "model.add(BatchNormalization(axis=1))\n",
        "\n",
        "model.add(Conv2D(64,\n",
        "                    (3,3),\n",
        "                    activation='relu',\n",
        "                    padding='same'))\n",
        "\n",
        "# forming the dense layers in CNN\n",
        "model.add(Flatten())\n",
        "model.add(Dense(64, activation='relu'))\n",
        "model.add(Dense(10, activation='softmax'))\n",
        "model.summary()"
      ],
      "metadata": {
        "id": "mdovpxIkR9Yo",
        "colab": {
          "base_uri": "https://localhost:8080/"
        },
        "outputId": "be56b2db-5a0d-4070-ef12-9fb8e992ab0e"
      },
      "execution_count": 5,
      "outputs": [
        {
          "output_type": "stream",
          "name": "stdout",
          "text": [
            "[INFO] Building model...\n",
            "Model: \"sequential\"\n",
            "_________________________________________________________________\n",
            " Layer (type)                Output Shape              Param #   \n",
            "=================================================================\n",
            " conv2d (Conv2D)             (None, 28, 28, 32)        320       \n",
            "                                                                 \n",
            " max_pooling2d (MaxPooling2D  (None, 14, 14, 32)       0         \n",
            " )                                                               \n",
            "                                                                 \n",
            " batch_normalization (BatchN  (None, 14, 14, 32)       56        \n",
            " ormalization)                                                   \n",
            "                                                                 \n",
            " conv2d_1 (Conv2D)           (None, 14, 14, 64)        18496     \n",
            "                                                                 \n",
            " max_pooling2d_1 (MaxPooling  (None, 7, 7, 64)         0         \n",
            " 2D)                                                             \n",
            "                                                                 \n",
            " batch_normalization_1 (Batc  (None, 7, 7, 64)         28        \n",
            " hNormalization)                                                 \n",
            "                                                                 \n",
            " conv2d_2 (Conv2D)           (None, 7, 7, 64)          36928     \n",
            "                                                                 \n",
            " flatten (Flatten)           (None, 3136)              0         \n",
            "                                                                 \n",
            " dense (Dense)               (None, 64)                200768    \n",
            "                                                                 \n",
            " dense_1 (Dense)             (None, 10)                650       \n",
            "                                                                 \n",
            "=================================================================\n",
            "Total params: 257,246\n",
            "Trainable params: 257,204\n",
            "Non-trainable params: 42\n",
            "_________________________________________________________________\n"
          ]
        }
      ]
    },
    {
      "cell_type": "code",
      "source": [
        "print(\"[INFO] compiling model...\")\n",
        "model.compile(optimizer='adam',\n",
        "              loss='categorical_crossentropy',\n",
        "              metrics=['accuracy'])"
      ],
      "metadata": {
        "id": "nHnUJk9GxkBJ",
        "colab": {
          "base_uri": "https://localhost:8080/"
        },
        "outputId": "c1bb5467-9a1e-4f18-b302-caee142666b9"
      },
      "execution_count": 6,
      "outputs": [
        {
          "output_type": "stream",
          "name": "stdout",
          "text": [
            "[INFO] compiling model...\n"
          ]
        }
      ]
    },
    {
      "cell_type": "code",
      "source": [
        "# generate image data for training\n",
        "train_gen = ImageDataGenerator(width_shift_range=0.1,\n",
        "                                height_shift_range=0.1,\n",
        "                                zoom_range=0.2)\n",
        "val_gen = ImageDataGenerator()"
      ],
      "metadata": {
        "id": "VFPkNG2t7GUj"
      },
      "execution_count": 7,
      "outputs": []
    },
    {
      "cell_type": "code",
      "source": [
        "batchSize = 64\n",
        "train_data = train_gen.flow(train_img, train_lab,\n",
        "                            batch_size = batchSize, shuffle=False)\n",
        "val_data = val_gen.flow(test_img, test_lab,\n",
        "                             batch_size=batchSize, shuffle=False)"
      ],
      "metadata": {
        "id": "Lkm-0b987fU1"
      },
      "execution_count": 8,
      "outputs": []
    },
    {
      "cell_type": "code",
      "source": [
        "print('[INFO] fitting the model...')\n",
        "history  = model.fit_generator(train_data,\n",
        "                               validation_data=val_data,\n",
        "                               epochs=20, verbose=1)\n",
        "#model.fit(train_img, train_lab, epochs=10, batch_size=64)"
      ],
      "metadata": {
        "colab": {
          "base_uri": "https://localhost:8080/"
        },
        "id": "9NyNqbcX0f9X",
        "outputId": "4c91490f-1768-40fb-9b85-f42ff8cad075"
      },
      "execution_count": 9,
      "outputs": [
        {
          "output_type": "stream",
          "name": "stdout",
          "text": [
            "[INFO] fitting the model...\n",
            "Epoch 1/20\n"
          ]
        },
        {
          "output_type": "stream",
          "name": "stderr",
          "text": [
            "<ipython-input-9-370fd72fd8fe>:2: UserWarning: `Model.fit_generator` is deprecated and will be removed in a future version. Please use `Model.fit`, which supports generators.\n",
            "  history  = model.fit_generator(train_data,\n"
          ]
        },
        {
          "output_type": "stream",
          "name": "stdout",
          "text": [
            "938/938 [==============================] - 27s 24ms/step - loss: 0.1870 - accuracy: 0.9405 - val_loss: 0.0773 - val_accuracy: 0.9757\n",
            "Epoch 2/20\n",
            "938/938 [==============================] - 18s 19ms/step - loss: 0.0712 - accuracy: 0.9781 - val_loss: 0.0543 - val_accuracy: 0.9837\n",
            "Epoch 3/20\n",
            "938/938 [==============================] - 18s 19ms/step - loss: 0.0547 - accuracy: 0.9830 - val_loss: 0.0316 - val_accuracy: 0.9902\n",
            "Epoch 4/20\n",
            "938/938 [==============================] - 19s 20ms/step - loss: 0.0465 - accuracy: 0.9858 - val_loss: 0.0253 - val_accuracy: 0.9924\n",
            "Epoch 5/20\n",
            "938/938 [==============================] - 18s 19ms/step - loss: 0.0422 - accuracy: 0.9869 - val_loss: 0.0349 - val_accuracy: 0.9896\n",
            "Epoch 6/20\n",
            "938/938 [==============================] - 18s 19ms/step - loss: 0.0397 - accuracy: 0.9879 - val_loss: 0.0347 - val_accuracy: 0.9916\n",
            "Epoch 7/20\n",
            "938/938 [==============================] - 18s 19ms/step - loss: 0.0375 - accuracy: 0.9886 - val_loss: 0.0245 - val_accuracy: 0.9927\n",
            "Epoch 8/20\n",
            "938/938 [==============================] - 18s 19ms/step - loss: 0.0320 - accuracy: 0.9905 - val_loss: 0.0288 - val_accuracy: 0.9917\n",
            "Epoch 9/20\n",
            "938/938 [==============================] - 18s 19ms/step - loss: 0.0338 - accuracy: 0.9899 - val_loss: 0.0292 - val_accuracy: 0.9904\n",
            "Epoch 10/20\n",
            "938/938 [==============================] - 18s 19ms/step - loss: 0.0296 - accuracy: 0.9910 - val_loss: 0.0211 - val_accuracy: 0.9936\n",
            "Epoch 11/20\n",
            "938/938 [==============================] - 18s 19ms/step - loss: 0.0286 - accuracy: 0.9914 - val_loss: 0.0254 - val_accuracy: 0.9927\n",
            "Epoch 12/20\n",
            "938/938 [==============================] - 18s 19ms/step - loss: 0.0262 - accuracy: 0.9921 - val_loss: 0.0364 - val_accuracy: 0.9902\n",
            "Epoch 13/20\n",
            "938/938 [==============================] - 18s 19ms/step - loss: 0.0271 - accuracy: 0.9919 - val_loss: 0.0189 - val_accuracy: 0.9942\n",
            "Epoch 14/20\n",
            "938/938 [==============================] - 18s 20ms/step - loss: 0.0253 - accuracy: 0.9923 - val_loss: 0.0250 - val_accuracy: 0.9926\n",
            "Epoch 15/20\n",
            "938/938 [==============================] - 18s 19ms/step - loss: 0.0240 - accuracy: 0.9929 - val_loss: 0.0168 - val_accuracy: 0.9946\n",
            "Epoch 16/20\n",
            "938/938 [==============================] - 20s 21ms/step - loss: 0.0227 - accuracy: 0.9930 - val_loss: 0.0194 - val_accuracy: 0.9946\n",
            "Epoch 17/20\n",
            "938/938 [==============================] - 17s 19ms/step - loss: 0.0207 - accuracy: 0.9937 - val_loss: 0.0363 - val_accuracy: 0.9905\n",
            "Epoch 18/20\n",
            "938/938 [==============================] - 18s 19ms/step - loss: 0.0220 - accuracy: 0.9933 - val_loss: 0.0256 - val_accuracy: 0.9932\n",
            "Epoch 19/20\n",
            "938/938 [==============================] - 18s 19ms/step - loss: 0.0197 - accuracy: 0.9939 - val_loss: 0.0300 - val_accuracy: 0.9914\n",
            "Epoch 20/20\n",
            "938/938 [==============================] - 18s 19ms/step - loss: 0.0218 - accuracy: 0.9934 - val_loss: 0.0191 - val_accuracy: 0.9945\n"
          ]
        }
      ]
    },
    {
      "cell_type": "code",
      "source": [
        "test_loss, test_acc = model.evaluate(test_img, test_lab, verbose=0)\n",
        "print('Test Accuracy:  %.3f' % (test_acc * 100.0))\n",
        "print('Test Loss:  %.3f' % (test_loss * 100.0))"
      ],
      "metadata": {
        "colab": {
          "base_uri": "https://localhost:8080/"
        },
        "id": "Ph1DqDPIzEsw",
        "outputId": "92e08e97-d580-4764-94f7-1927d9ffaf77"
      },
      "execution_count": 10,
      "outputs": [
        {
          "output_type": "stream",
          "name": "stdout",
          "text": [
            "Test Accuracy:  99.450\n",
            "Test Loss:  1.912\n"
          ]
        }
      ]
    },
    {
      "cell_type": "code",
      "source": [
        "# summarize history for accuracy\n",
        "plt.plot(history.history['accuracy'])\n",
        "plt.plot(history.history['val_accuracy'])\n",
        "plt.title('model accuracy')\n",
        "plt.ylabel('accuracy')\n",
        "plt.xlabel('epoch')\n",
        "plt.legend(['train', 'val'], loc='upper left')\n",
        "plt.show()"
      ],
      "metadata": {
        "colab": {
          "base_uri": "https://localhost:8080/",
          "height": 295
        },
        "id": "9gGMn3fw_9KE",
        "outputId": "08a0d221-2f13-4967-e2b0-2c43476c0cc6"
      },
      "execution_count": 11,
      "outputs": [
        {
          "output_type": "display_data",
          "data": {
            "text/plain": [
              "<Figure size 432x288 with 1 Axes>"
            ],
            "image/png": "[encoded data removed]"
          },
          "metadata": {
            "needs_background": "light"
          }
        }
      ]
    },
    {
      "cell_type": "code",
      "source": [
        "# summarize history for loss\n",
        "plt.plot(history.history['loss'])\n",
        "plt.plot(history.history['val_loss'])\n",
        "plt.title('model loss')\n",
        "plt.ylabel('loss')\n",
        "plt.xlabel('epoch')\n",
        "plt.legend(['train', 'val'], loc='upper left')\n",
        "plt.show()"
      ],
      "metadata": {
        "colab": {
          "base_uri": "https://localhost:8080/",
          "height": 295
        },
        "id": "ejtKwvW89CVm",
        "outputId": "296d4e84-3387-4fb7-d098-cfa2178395e1"
      },
      "execution_count": 12,
      "outputs": [
        {
          "output_type": "display_data",
          "data": {
            "text/plain": [
              "<Figure size 432x288 with 1 Axes>"
            ],
            "image/png": "[encoded data removed]"
          },
          "metadata": {
            "needs_background": "light"
          }
        }
      ]
    }
  ]
}